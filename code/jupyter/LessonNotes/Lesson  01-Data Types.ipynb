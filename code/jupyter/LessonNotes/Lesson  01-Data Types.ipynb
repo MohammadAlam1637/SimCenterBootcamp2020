{
 "cells": [
  {
   "cell_type": "markdown",
   "metadata": {},
   "source": [
    "# A Python Quick Start Tutorial\n",
    "# Lesson \\#1: Basic data types and functions\n",
    "## by Peter Mackenzie-Helnwein\n",
    "University of Washington, Seattle, WA\n",
    "\n",
    "pmackenz@uw.edu          \n",
    "https://www.ce.washington.edu/facultyfinder/peter-mackenzie-helnwein"
   ]
  },
  {
   "cell_type": "markdown",
   "metadata": {},
   "source": [
    "## Resources\n",
    "\n",
    "   1. Python Docs: https://docs.python.org/3/\n",
    "   \n",
    "   1. Python Tutorial (comprehensive): https://docs.python.org/3/tutorial/index.html\n",
    "   \n",
    "   1. Python Library Reference (the nitty-gritty details): https://docs.python.org/3/library/index.html\n",
    "   \n",
    "   1. Everything else: http://google.com\n",
    "   "
   ]
  },
  {
   "cell_type": "markdown",
   "metadata": {},
   "source": [
    "## Discussing questions from the self-study assignment\n",
    "\n",
    "This section is to discuss your questions\n"
   ]
  },
  {
   "cell_type": "markdown",
   "metadata": {},
   "source": [
    "### Exercise 1\n",
    "\n",
    "**Theory**:\n",
    "Stress transformation\n",
    "\n",
    "$$\n",
    "\\begin{aligned}\n",
    "\\sigma_{x}' &= \\sigma_{x} \\cos^2\\theta + \\sigma_{y} \\sin^2\\theta + 2\\tau_{xy} \\sin\\theta \\cos\\theta \\\\\n",
    "\\sigma_{y}' &= \\sigma_{x} \\sin^2\\theta + \\sigma_{y} \\cos^2\\theta - 2\\tau_{xy} \\sin\\theta \\cos\\theta \\\\\n",
    "\\tau_{xy}'  &= (\\sigma_{y} - \\sigma_{x}) \\sin\\theta \\cos\\theta + \\tau_{xy} (\\cos^2\\theta - \\sin^2\\theta) \\\\\n",
    "\\end{aligned}\n",
    "$$\n",
    "\n",
    "**Given**:\n",
    "Stress state:\n",
    "\n",
    "$$\n",
    "\\sigma_{x} = 12~ksi~,\n",
    "~~~\n",
    "\\sigma_{y} = -5.5~ksi~,\n",
    "~~~\n",
    "\\tau_{xy} = 3.5~ksi \n",
    "$$\n",
    "\n",
    "**Find**:\n",
    "Components of stress in a rotated coordinate system for $\\theta=25^\\circ$."
   ]
  },
  {
   "cell_type": "code",
   "execution_count": 2,
   "metadata": {},
   "outputs": [],
   "source": [
    "# theta needs to be in radians\n",
    "# sin and cos are not part of phython\n",
    "\n",
    "from math import sin, cos, pi, radians"
   ]
  },
  {
   "cell_type": "code",
   "execution_count": null,
   "metadata": {},
   "outputs": [],
   "source": []
  },
  {
   "cell_type": "code",
   "execution_count": 3,
   "metadata": {},
   "outputs": [
    {
     "data": {
      "text/plain": [
       "1.5707963267948966"
      ]
     },
     "execution_count": 3,
     "metadata": {},
     "output_type": "execute_result"
    }
   ],
   "source": [
    "radians(90)"
   ]
  },
  {
   "cell_type": "code",
   "execution_count": 44,
   "metadata": {},
   "outputs": [
    {
     "name": "stdout",
     "output_type": "stream",
     "text": [
      "11.555547135673642 -5.055547135673642 -4.453132243388171\n"
     ]
    }
   ],
   "source": [
    "sigma_x = 12\n",
    "sigma_y = -5.5\n",
    "tau_xy  = 3.5\n",
    "theta   = radians(25.)\n",
    "\n",
    "sx = sigma_x*cos(theta)**2 + sigma_y*sin(theta)**2 + 2*tau_xy*sin(theta)*cos(theta)\n",
    "sy = sigma_x*sin(theta)**2 + sigma_y*cos(theta)**2 - 2*tau_xy*sin(theta)*cos(theta)\n",
    "txy = (sigma_y-sigma_x)*sin(theta)*cos(theta)+ tau_xy*(cos(theta)**2 - sin(theta)**2)\n",
    "\n",
    "\n",
    "print(sx, sy, txy) "
   ]
  },
  {
   "cell_type": "code",
   "execution_count": 45,
   "metadata": {},
   "outputs": [
    {
     "name": "stdout",
     "output_type": "stream",
     "text": [
      "sigma_prime_x = 11.5555\n",
      "sigma_prime_y = -5.0555\n",
      "tau_prime_x   = -4.4531\n"
     ]
    }
   ],
   "source": [
    "print(\"sigma_prime_x =\" \"{:8.4f}\".format(sx));\n",
    "print(\"sigma_prime_y =\" \"{:8.4f}\".format(sy));\n",
    "print(\"tau_prime_x   =\" \"{:8.4f}\".format(txy));"
   ]
  },
  {
   "cell_type": "code",
   "execution_count": null,
   "metadata": {},
   "outputs": [],
   "source": []
  },
  {
   "cell_type": "code",
   "execution_count": null,
   "metadata": {},
   "outputs": [],
   "source": []
  },
  {
   "cell_type": "markdown",
   "metadata": {},
   "source": [
    "### Exercise 2\n",
    "\n",
    "Convert the calculation from exercise 1 to a function"
   ]
  },
  {
   "cell_type": "code",
   "execution_count": 48,
   "metadata": {},
   "outputs": [],
   "source": [
    "def stressTransform(sigx, sigy, tauxy, theta):\n",
    "    # YOUR CODE\n",
    "    th  = radians(theta)\n",
    "    sx  = sigx * cos(th)**2 + sigy * sin(th)**2 + 2 *tauxy * sin(th) *cos(th)\n",
    "    sy  = sigx * sin(th)**2 + sigy * cos(th)**2 - 2 *tauxy * sin(th) *cos(th)\n",
    "    txy = (sigy-sigx) *sin(th) * cos(th) + tauxy*((cos(th)**2 - sin(th)**2))\n",
    "    \n",
    "    return (sx,sy,txy)"
   ]
  },
  {
   "cell_type": "markdown",
   "metadata": {},
   "source": [
    "Test your function for \n",
    "\n",
    "* $\\theta=0$ (what should the result look like?)\n",
    "* $\\theta=25^\\circ$\n",
    "* $\\theta=180^\\circ$"
   ]
  },
  {
   "cell_type": "code",
   "execution_count": 51,
   "metadata": {},
   "outputs": [],
   "source": [
    "stress = stressTransform(12, -5.5, 3.5, 180)\n"
   ]
  },
  {
   "cell_type": "code",
   "execution_count": 55,
   "metadata": {},
   "outputs": [
    {
     "name": "stdout",
     "output_type": "stream",
     "text": [
      "sig_x  =  12.0000 ksi \n",
      "sig_y  =  -5.5000 ksi \n",
      "tau_xy =   3.5000 ksi \n"
     ]
    }
   ],
   "source": [
    "print(\"sig_x  = {:8.4f} ksi \\nsig_y  = {:8.4f} ksi \\ntau_xy = {:8.4f} ksi \". format(*stress))"
   ]
  },
  {
   "cell_type": "markdown",
   "metadata": {},
   "source": [
    "### Exercise 3\n",
    "\n",
    "Let's use this function to study stress transformation.  In order to do so,\n",
    "\n",
    "1. Create a list of 81 evenly spaced $\\theta$-values from $0^\\circ$ to $180^\\circ$.\n",
    "2. Compute the transformed stress for each of these values and collect the results in three lists: \n",
    "\n",
    "       sigmax_values = ...\n",
    "       sigmay_values = ...\n",
    "       tauxy_values = ...\n",
    "\n",
    "3. print a nice table with 4 columns: $\\theta$, $\\sigma_x'$, $\\sigma_y'$, $\\tau_{xy}'$"
   ]
  },
  {
   "cell_type": "code",
   "execution_count": 72,
   "metadata": {},
   "outputs": [
    {
     "name": "stdout",
     "output_type": "stream",
     "text": [
      "     theta         sigma_x       sigma_y        tau_xy \n",
      "======================================================\n",
      "    0.000000,    12.000000,    -5.500000,     3.500000,\n",
      "    2.222222,    12.244912,    -5.744912,     2.811417,\n",
      "    4.444444,    12.435727,    -5.935727,     2.105925,\n",
      "    6.666667,    12.571298,    -6.071298,     1.387768,\n",
      "    8.888889,    12.650810,    -6.150810,     0.661265,\n",
      "   11.111111,    12.673784,    -6.173784,    -0.069215,\n",
      "   13.333333,    12.640083,    -6.140083,    -0.799279,\n",
      "   15.555556,    12.549908,    -6.049908,    -1.524535,\n",
      "   17.777778,    12.403803,    -5.903803,    -2.240623,\n",
      "   20.000000,    12.202646,    -5.702646,    -2.943236,\n",
      "   22.222222,    11.947646,    -5.447646,    -3.628148,\n",
      "   24.444444,    11.640338,    -5.140338,    -4.291239,\n",
      "   26.666667,    11.282569,    -4.782569,    -4.928523,\n",
      "   28.888889,    10.876491,    -4.376491,    -5.536166,\n",
      "   31.111111,    10.424547,    -3.924547,    -6.110513,\n",
      "   33.333333,     9.929454,    -3.429454,    -6.648112,\n",
      "   35.555556,     9.394191,    -2.894191,    -7.145728,\n",
      "   37.777778,     8.821975,    -2.321975,    -7.600368,\n",
      "   40.000000,     8.216249,    -1.716249,    -8.009299,\n",
      "   42.222222,     7.580655,    -1.080655,    -8.370061,\n",
      "   44.444444,     6.919016,    -0.419016,    -8.680485,\n",
      "   46.666667,     6.235311,     0.264689,    -8.938703,\n",
      "   48.888889,     5.533653,     0.966347,    -9.143163,\n",
      "   51.111111,     4.818260,     1.681740,    -9.292635,\n",
      "   53.333333,     4.093435,     2.406565,    -9.386220,\n",
      "   55.555556,     3.363538,     3.136462,    -9.423354,\n",
      "   57.777778,     2.632958,     3.867042,    -9.403816,\n",
      "   60.000000,     1.906089,     4.593911,    -9.327722,\n",
      "   62.222222,     1.187302,     5.312698,    -9.195530,\n",
      "   64.444444,     0.480921,     6.019079,    -9.008035,\n",
      "   66.666667,    -0.208807,     6.708807,    -8.766365,\n",
      "   68.888889,    -0.877733,     7.377733,    -8.471973,\n",
      "   71.111111,    -1.521834,     8.021834,    -8.126629,\n",
      "   73.333333,    -2.137237,     8.637237,    -7.732411,\n",
      "   75.555556,    -2.720240,     9.220240,    -7.291689,\n",
      "   77.777778,    -3.267338,     9.767338,    -6.807114,\n",
      "   80.000000,    -3.775240,    10.275240,    -6.281600,\n",
      "   82.222222,    -4.240891,    10.740891,    -5.718308,\n",
      "   84.444444,    -4.661491,    11.161491,    -5.120626,\n",
      "   86.666667,    -5.034510,    11.534510,    -4.492147,\n",
      "   88.888889,    -5.357706,    11.857706,    -3.836652,\n",
      "   91.111111,    -5.629133,    12.129133,    -3.158083,\n",
      "   93.333333,    -5.847161,    12.347161,    -2.460521,\n",
      "   95.555556,    -6.010477,    12.510477,    -1.748161,\n",
      "   97.777778,    -6.118099,    12.618099,    -1.025288,\n",
      "  100.000000,    -6.169381,    12.669381,    -0.296248,\n",
      "  102.222222,    -6.164013,    12.664013,     0.434574,\n",
      "  104.444444,    -6.102029,    12.602029,     1.162781,\n",
      "  106.666667,    -5.983800,    12.483800,     1.883996,\n",
      "  108.888889,    -5.810038,    12.310038,     2.593880,\n",
      "  111.111111,    -5.581788,    12.081788,     3.288165,\n",
      "  113.333333,    -5.300422,    11.800422,     3.962674,\n",
      "  115.555556,    -4.967633,    11.467633,     4.613351,\n",
      "  117.777778,    -4.585423,    11.085423,     5.236282,\n",
      "  120.000000,    -4.156089,    10.656089,     5.827722,\n",
      "  122.222222,    -3.682214,    10.182214,     6.384114,\n",
      "  124.444444,    -3.166648,     9.666648,     6.902110,\n",
      "  126.666667,    -2.612492,     9.112492,     7.378597,\n",
      "  128.888889,    -2.023077,     8.523077,     7.810708,\n",
      "  131.111111,    -1.401950,     7.901950,     8.195844,\n",
      "  133.333333,    -0.752846,     7.252846,     8.531689,\n",
      "  135.555556,    -0.079668,     6.579668,     8.816224,\n",
      "  137.777778,     0.613535,     5.886465,     9.047738,\n",
      "  140.000000,     1.322594,     5.177406,     9.224836,\n",
      "  142.222222,     2.043245,     4.456755,     9.346456,\n",
      "  144.444444,     2.771153,     3.728847,     9.411865,\n",
      "  146.666667,     3.501942,     2.998058,     9.420670,\n",
      "  148.888889,     4.231215,     2.268785,     9.372818,\n",
      "  151.111111,     4.954586,     1.545414,     9.268597,\n",
      "  153.333333,     5.667707,     0.832293,     9.108633,\n",
      "  155.555556,     6.366286,     0.133714,     8.893889,\n",
      "  157.777778,     7.046124,    -0.546124,     8.625656,\n",
      "  160.000000,     7.703132,    -1.203132,     8.305547,\n",
      "  162.222222,     8.333358,    -1.833358,     7.935488,\n",
      "  164.444444,     8.933013,    -2.433013,     7.517704,\n",
      "  166.666667,     9.498488,    -2.998488,     7.054707,\n",
      "  168.888889,    10.026385,    -3.526385,     6.549283,\n",
      "  171.111111,    10.513528,    -4.013528,     6.004470,\n",
      "  173.333333,    10.956987,    -4.456987,     5.423546,\n",
      "  175.555556,    11.354095,    -4.854095,     4.810004,\n",
      "  177.777778,    11.702465,    -5.202465,     4.167534,\n",
      "  180.000000,    12.000000,    -5.500000,     3.500000,\n"
     ]
    }
   ],
   "source": [
    "sigmax_values = []\n",
    "sigmay_values = []\n",
    "tauxy_values  = []\n",
    "\n",
    "# YOUR CODE HERE\n",
    "print(\"     theta         sigma_x       sigma_y        tau_xy \")\n",
    "print(\"======================================================\")\n",
    "\n",
    "lower  = 0;\n",
    "upper  = 180;\n",
    "length = 81;\n",
    "\n",
    "theta = [lower + x*(upper-lower)/length for x in range(length)]\n",
    "theta.append(180)\n",
    "\n",
    "for i in theta:\n",
    "    th = i;\n",
    "    stress = stressTransform(12, -5.5, 3.5, th)\n",
    "    sx     = stress[0]\n",
    "    sy     = stress[1]\n",
    "    txy    = stress[2]\n",
    "    \n",
    "    sigmax_values.append(sx)\n",
    "    sigmay_values.append(sy)\n",
    "    tauxy_values.append(txy)\n",
    "    \n",
    "    print(\"{:12.6f}, {:12.6f}, {:12.6f}, {:12.6f},\". format(th, sx, sy, txy))\n",
    "    \n",
    "      "
   ]
  },
  {
   "cell_type": "markdown",
   "metadata": {},
   "source": [
    "### Exercise 4: Explore plotting in python\n",
    "\n",
    "For this, check out https://matplotlib.org/3.1.1/gallery/lines_bars_and_markers/simple_plot.html#sphx-glr-gallery-lines-bars-and-markers-simple-plot-py\n",
    "\n",
    "I copied the demo code below so you can modify it to plot $(\\sigma_{x}'/\\tau_{xy}')$ and  $(\\sigma_{y}'/-\\tau_{xy}')$ curves from the data collected in `sigmax_values`, `sigmay_values`, `tauxy_values`"
   ]
  },
  {
   "cell_type": "code",
   "execution_count": null,
   "metadata": {},
   "outputs": [],
   "source": [
    "import matplotlib\n",
    "import matplotlib.pyplot as plt\n",
    "import numpy as np\n",
    "\n",
    "# Data for plotting\n",
    "t = np.arange(0.0, 2.0, 0.01)\n",
    "s = 1 + np.sin(2 * np.pi * t)\n",
    "\n",
    "fig, ax = plt.subplots()\n",
    "ax.plot(t, s)\n",
    "\n",
    "ax.set(xlabel='time (s)', ylabel='voltage (mV)',\n",
    "       title='About as simple as it gets, folks')\n",
    "ax.grid()\n",
    "\n",
    "# I comment writing the figure to file ... makes this quicker\n",
    "# fig.savefig(\"test.png\")\n",
    "plt.show()"
   ]
  },
  {
   "cell_type": "markdown",
   "metadata": {},
   "source": [
    "**Remark**: This was just to wet your appetite! We will talk much more about `numpy` and `matplotlib` next week."
   ]
  },
  {
   "cell_type": "markdown",
   "metadata": {},
   "source": [
    "## Exercise 5: List versus dictionary\n",
    "\n",
    "You could express the stress state as\n",
    "\n",
    "1. three independent variables - the way we did it thus far\n",
    "\n",
    "2. a list of three values: `stress = `$[\\sigma_x, \\sigma_y, \\tau_{xy}]$ and replace\n",
    "\n",
    "        sigma_x --> stress[0]\n",
    "        sigma_y --> stress[2]\n",
    "        tau_xy  --> stress[3]\n",
    "        \n",
    "3. a dictionary \n",
    "\n",
    "        stress = {'sigx': 12.0, 'sigy': -5.5, 'tau':3.50}\n",
    "        \n",
    "   and replace\n",
    "\n",
    "        sigma_x --> stress['sigx']\n",
    "        sigma_y --> stress['sigy']\n",
    "        tau_xy  --> stress['tau']\n",
    "\n",
    "**Discuss**:\n",
    "\n",
    "1. Pros and cons for coding the equations\n",
    "2. Pros and cons for coding the function(s)\n",
    "3. How woud code and function change when switching from 2D to 3D (6 components instead of 3 components)\n",
    "\n",
    "Feel free to implement an alternative form of stressTrannsform() that looks like this:"
   ]
  },
  {
   "cell_type": "code",
   "execution_count": null,
   "metadata": {},
   "outputs": [],
   "source": [
    "def stressTransform(stress, theta):\n",
    "    # YOUR CODE\n",
    "    # stress2 is a list or dictionary, just as stress is\n",
    "    \n",
    "    return stress2"
   ]
  },
  {
   "cell_type": "code",
   "execution_count": null,
   "metadata": {},
   "outputs": [],
   "source": []
  },
  {
   "cell_type": "markdown",
   "metadata": {},
   "source": [
    "## Homework questions\n",
    "\n",
    "We can all learn from your questions!"
   ]
  },
  {
   "cell_type": "code",
   "execution_count": null,
   "metadata": {},
   "outputs": [],
   "source": []
  }
 ],
 "metadata": {
  "kernelspec": {
   "display_name": "Python 3",
   "language": "python",
   "name": "python3"
  },
  "language_info": {
   "codemirror_mode": {
    "name": "ipython",
    "version": 3
   },
   "file_extension": ".py",
   "mimetype": "text/x-python",
   "name": "python",
   "nbconvert_exporter": "python",
   "pygments_lexer": "ipython3",
   "version": "3.7.6"
  }
 },
 "nbformat": 4,
 "nbformat_minor": 4
}
